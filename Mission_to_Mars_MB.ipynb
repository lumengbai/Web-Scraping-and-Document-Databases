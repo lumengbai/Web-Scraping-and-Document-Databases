{
 "cells": [
  {
   "cell_type": "code",
   "execution_count": 1,
   "metadata": {},
   "outputs": [],
   "source": [
    "from splinter import Browser\n",
    "from bs4 import BeautifulSoup as bs\n",
    "import time\n",
    "import urllib.request\n",
    "from urllib.request import urlopen\n"
   ]
  },
  {
   "cell_type": "code",
   "execution_count": 2,
   "metadata": {},
   "outputs": [],
   "source": [
    "# @NOTE: Replace the path with your actual path to the chromedriver\n",
    "\n",
    "def init_browser():\n",
    "    executable_path = {\"executable_path\": \"chromedriver.exe\"}\n",
    "    return Browser(\"chrome\", **executable_path, headless=False)\n"
   ]
  },
  {
   "cell_type": "markdown",
   "metadata": {},
   "source": [
    "**Scrapping Nasa News Website**"
   ]
  },
  {
   "cell_type": "code",
   "execution_count": 3,
   "metadata": {},
   "outputs": [],
   "source": [
    "browser = init_browser()\n",
    "\n",
    "url_nasa_news = \"https://mars.nasa.gov/news/?page=0&per_page=40&order=publish_date+desc%2Ccreated_at+desc&search=&category=19%2C165%2C184%2C204&blank_scope=Latest\"\n",
    "browser.visit(url_nasa_news)\n",
    "\n",
    "time.sleep(1)\n",
    "\n",
    "# Scrape page into Soup\n",
    "html_nasa = browser.html\n",
    "soup_nasa = bs(html_nasa, \"html.parser\")\n",
    "\n",
    "# Geting headline\n",
    "news_full = soup_nasa.select(\"#page a\")\n",
    "\n",
    "news_title = [x.text for x in news_full][1]\n",
    "\n",
    "# # Getting paragraph\n",
    "# news_t = soup_nasa.select(\".slide\")\n",
    "\n",
    "# news_paragraph = [x.text for x in news_t][0]\n",
    "\n",
    "news_t = soup_nasa.select(\".article_teaser_body\")\n",
    "\n",
    "news_paragraph = [x.text for x in news_t][0]"
   ]
  },
  {
   "cell_type": "code",
   "execution_count": 4,
   "metadata": {},
   "outputs": [
    {
     "data": {
      "text/plain": [
       "'Mars InSight Lander Seen in First Images from Space '"
      ]
     },
     "execution_count": 4,
     "metadata": {},
     "output_type": "execute_result"
    }
   ],
   "source": [
    "news_title"
   ]
  },
  {
   "cell_type": "code",
   "execution_count": 5,
   "metadata": {},
   "outputs": [
    {
     "data": {
      "text/plain": [
       "\"Look closely, and you can make out the lander's solar panels.\""
      ]
     },
     "execution_count": 5,
     "metadata": {},
     "output_type": "execute_result"
    }
   ],
   "source": [
    "news_paragraph"
   ]
  },
  {
   "cell_type": "markdown",
   "metadata": {},
   "source": [
    "**Scrapping Image from Space Images**"
   ]
  },
  {
   "cell_type": "code",
   "execution_count": 6,
   "metadata": {},
   "outputs": [],
   "source": [
    "url_jpl_original = \"https://www.jpl.nasa.gov\"\n",
    "\n",
    "url_jpl = \"https://www.jpl.nasa.gov/spaceimages/?search=&category=Mars\"\n",
    "\n",
    "browser.visit(url_jpl)\n",
    "\n",
    "time.sleep(1)\n",
    "\n",
    "# # Scrape page into Soup\n",
    "html = browser.html\n",
    "soup = bs(html, \"html.parser\")\n",
    "relative_image_path = soup.select('.thumb')[0][\"src\"]\n",
    "\n",
    "\n",
    "nasa_img = url_jpl_original + relative_image_path"
   ]
  },
  {
   "cell_type": "code",
   "execution_count": 7,
   "metadata": {},
   "outputs": [
    {
     "data": {
      "text/plain": [
       "'https://www.jpl.nasa.gov/spaceimages/images/wallpaper/PIA22878-640x350.jpg'"
      ]
     },
     "execution_count": 7,
     "metadata": {},
     "output_type": "execute_result"
    }
   ],
   "source": [
    "nasa_img"
   ]
  },
  {
   "cell_type": "code",
   "execution_count": 8,
   "metadata": {},
   "outputs": [
    {
     "data": {
      "text/plain": [
       "('images/Mars_image.jpg', <http.client.HTTPMessage at 0x198de3c44a8>)"
      ]
     },
     "execution_count": 8,
     "metadata": {},
     "output_type": "execute_result"
    }
   ],
   "source": [
    "urllib.request.urlretrieve(nasa_img, \"images/Mars_image.jpg\")"
   ]
  },
  {
   "cell_type": "markdown",
   "metadata": {},
   "source": [
    "**Scrapping Teperature from Twitter Account**"
   ]
  },
  {
   "cell_type": "code",
   "execution_count": 9,
   "metadata": {},
   "outputs": [],
   "source": [
    "url_twitter = \"https://twitter.com/marswxreport?lang=en\"\n",
    "browser.visit(url_twitter)\n",
    "\n",
    "# Scrape page into Soup\n",
    "html_twitter = browser.html\n",
    "soup_tweeter = bs(html_twitter, \"html.parser\")\n",
    "\n",
    "\n",
    "time.sleep(1)\n",
    "\n",
    "# Geting last tweet\n",
    "tweet = soup_tweeter.select(\".tweet-text\")\n",
    "\n",
    "last_tweet = [x.text for x in tweet][0]\n"
   ]
  },
  {
   "cell_type": "code",
   "execution_count": 10,
   "metadata": {},
   "outputs": [
    {
     "data": {
      "text/plain": [
       "'Sol 2258 (2018-12-13), high -6C/21F, low -70C/-93F, pressure at 8.41 hPa, daylight 06:37-18:51'"
      ]
     },
     "execution_count": 10,
     "metadata": {},
     "output_type": "execute_result"
    }
   ],
   "source": [
    "last_tweet"
   ]
  },
  {
   "cell_type": "markdown",
   "metadata": {},
   "source": [
    "**Scrapping Teperature from Mars Facts**"
   ]
  },
  {
   "cell_type": "code",
   "execution_count": 11,
   "metadata": {},
   "outputs": [],
   "source": [
    "url_facts = 'https://space-facts.com/mars/'\n",
    "page_facts = urlopen(url_facts)\n",
    "soup = bs(page_facts, 'html.parser')\n",
    "\n",
    "table = soup.find('table',id=\"tablepress-mars\")"
   ]
  },
  {
   "cell_type": "code",
   "execution_count": 12,
   "metadata": {},
   "outputs": [
    {
     "data": {
      "text/plain": [
       "<table class=\"tablepress tablepress-id-mars\" id=\"tablepress-mars\">\n",
       "<tbody>\n",
       "<tr class=\"row-1 odd\">\n",
       "<td class=\"column-1\"><strong>Equatorial Diameter:</strong></td><td class=\"column-2\">6,792 km<br/>\n",
       "</td>\n",
       "</tr>\n",
       "<tr class=\"row-2 even\">\n",
       "<td class=\"column-1\"><strong>Polar Diameter:</strong></td><td class=\"column-2\">6,752 km<br/>\n",
       "</td>\n",
       "</tr>\n",
       "<tr class=\"row-3 odd\">\n",
       "<td class=\"column-1\"><strong>Mass:</strong></td><td class=\"column-2\">6.42 x 10^23 kg (10.7% Earth)</td>\n",
       "</tr>\n",
       "<tr class=\"row-4 even\">\n",
       "<td class=\"column-1\"><strong>Moons:</strong></td><td class=\"column-2\">2 (<a href=\"https://space-facts.com/phobos/\">Phobos</a> &amp; <a href=\"https://space-facts.com/deimos/\">Deimos</a>)</td>\n",
       "</tr>\n",
       "<tr class=\"row-5 odd\">\n",
       "<td class=\"column-1\"><strong>Orbit Distance:</strong></td><td class=\"column-2\">227,943,824 km (1.52 AU)</td>\n",
       "</tr>\n",
       "<tr class=\"row-6 even\">\n",
       "<td class=\"column-1\"><strong>Orbit Period:</strong></td><td class=\"column-2\">687 days (1.9 years)<br/>\n",
       "</td>\n",
       "</tr>\n",
       "<tr class=\"row-7 odd\">\n",
       "<td class=\"column-1\"><strong>Surface Temperature: </strong></td><td class=\"column-2\">-153 to 20 °C</td>\n",
       "</tr>\n",
       "<tr class=\"row-8 even\">\n",
       "<td class=\"column-1\"><strong>First Record:</strong></td><td class=\"column-2\">2nd millennium BC</td>\n",
       "</tr>\n",
       "<tr class=\"row-9 odd\">\n",
       "<td class=\"column-1\"><strong>Recorded By:</strong></td><td class=\"column-2\">Egyptian astronomers</td>\n",
       "</tr>\n",
       "</tbody>\n",
       "</table>"
      ]
     },
     "execution_count": 12,
     "metadata": {},
     "output_type": "execute_result"
    }
   ],
   "source": [
    "table"
   ]
  },
  {
   "cell_type": "markdown",
   "metadata": {},
   "source": [
    "\n",
    "**Scrapping Mars Hemisphere Images**"
   ]
  },
  {
   "cell_type": "code",
   "execution_count": 13,
   "metadata": {},
   "outputs": [],
   "source": [
    "url_hemisphere_original = \"https://astrogeology.usgs.gov\"\n",
    "\n",
    "\n",
    "url_hemisphere = \"https://astrogeology.usgs.gov/search/results?q=hemisphere+enhanced&k1=target&v1=Mars\"\n",
    "\n",
    "\n",
    "browser.visit(url_hemisphere)\n",
    "\n",
    "time.sleep(1)\n",
    "\n",
    "hemisphere_names  = []\n",
    "hemisphere_images = []\n",
    "\n",
    "for i in [0,1,2,3]:\n",
    "    # Scrape page into Soup\n",
    "    html_hemisphere = browser.html\n",
    "    soup = bs(html_hemisphere, \"html.parser\")\n",
    "    \n",
    "    # For loop for the name of the Hemispheres and appending to list\n",
    "    hemis_name = soup.select(\"h3\")\n",
    "    hemis_string = [x.text for x in hemis_name][i]\n",
    "    hemisphere_names.append(hemis_string)\n",
    "    \n",
    "    # For loop for the images of the Hemispheres and appending to list\n",
    "    image_path_hemisphere = soup.select('.thumb')[i][\"src\"]    \n",
    "    hemisphere_img = url_hemisphere_original + image_path_hemisphere\n",
    "    hemisphere_images.append(hemisphere_img)\n",
    "    \n",
    "    # Savings images in folder\n",
    "    urllib.request.urlretrieve(hemisphere_img, f\"images/hemisphere{i}_img.jpg\")\n",
    "       "
   ]
  },
  {
   "cell_type": "code",
   "execution_count": 14,
   "metadata": {},
   "outputs": [
    {
     "data": {
      "text/plain": [
       "['Cerberus Hemisphere Enhanced',\n",
       " 'Schiaparelli Hemisphere Enhanced',\n",
       " 'Syrtis Major Hemisphere Enhanced',\n",
       " 'Valles Marineris Hemisphere Enhanced']"
      ]
     },
     "execution_count": 14,
     "metadata": {},
     "output_type": "execute_result"
    }
   ],
   "source": [
    "hemisphere_names"
   ]
  },
  {
   "cell_type": "code",
   "execution_count": 15,
   "metadata": {},
   "outputs": [
    {
     "data": {
      "text/plain": [
       "['https://astrogeology.usgs.gov/cache/images/dfaf3849e74bf973b59eb50dab52b583_cerberus_enhanced.tif_thumb.png',\n",
       " 'https://astrogeology.usgs.gov/cache/images/7677c0a006b83871b5a2f66985ab5857_schiaparelli_enhanced.tif_thumb.png',\n",
       " 'https://astrogeology.usgs.gov/cache/images/aae41197e40d6d4f3ea557f8cfe51d15_syrtis_major_enhanced.tif_thumb.png',\n",
       " 'https://astrogeology.usgs.gov/cache/images/04085d99ec3713883a9a57f42be9c725_valles_marineris_enhanced.tif_thumb.png']"
      ]
     },
     "execution_count": 15,
     "metadata": {},
     "output_type": "execute_result"
    }
   ],
   "source": [
    "hemisphere_images"
   ]
  },
  {
   "cell_type": "code",
   "execution_count": null,
   "metadata": {},
   "outputs": [],
   "source": []
  }
 ],
 "metadata": {
  "anaconda-cloud": {},
  "kernelspec": {
   "display_name": "Python 3",
   "language": "python",
   "name": "python3"
  },
  "language_info": {
   "codemirror_mode": {
    "name": "ipython",
    "version": 3
   },
   "file_extension": ".py",
   "mimetype": "text/x-python",
   "name": "python",
   "nbconvert_exporter": "python",
   "pygments_lexer": "ipython3",
   "version": "3.6.5"
  }
 },
 "nbformat": 4,
 "nbformat_minor": 1
}
